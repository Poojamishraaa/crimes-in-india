{
 "cells": [
  {
   "cell_type": "code",
   "execution_count": 1,
   "id": "d30c3572",
   "metadata": {},
   "outputs": [],
   "source": [
    "#import the liabraries\n",
    "import pandas as pd\n",
    "from sklearn.cluster import KMeans\n"
   ]
  },
  {
   "cell_type": "code",
   "execution_count": 2,
   "id": "f8b1b2f3",
   "metadata": {},
   "outputs": [],
   "source": [
    "#load the data\n",
    "df = pd.read_csv(r\"C:\\Users\\ASHISH\\Downloads\\areeeea.csv\")\n"
   ]
  },
  {
   "cell_type": "code",
   "execution_count": 3,
   "id": "a14cd0d5",
   "metadata": {},
   "outputs": [
    {
     "data": {
      "text/html": [
       "<div>\n",
       "<style scoped>\n",
       "    .dataframe tbody tr th:only-of-type {\n",
       "        vertical-align: middle;\n",
       "    }\n",
       "\n",
       "    .dataframe tbody tr th {\n",
       "        vertical-align: top;\n",
       "    }\n",
       "\n",
       "    .dataframe thead th {\n",
       "        text-align: right;\n",
       "    }\n",
       "</style>\n",
       "<table border=\"1\" class=\"dataframe\">\n",
       "  <thead>\n",
       "    <tr style=\"text-align: right;\">\n",
       "      <th></th>\n",
       "      <th>Area_Name</th>\n",
       "      <th>Year</th>\n",
       "      <th>Group_Name</th>\n",
       "      <th>Sub_Group_Name</th>\n",
       "      <th>Cases_Property_Recovered</th>\n",
       "      <th>Cases_Property_Stolen</th>\n",
       "      <th>Value_of_Property_Recovered</th>\n",
       "      <th>Value_of_Property_Stolen</th>\n",
       "    </tr>\n",
       "  </thead>\n",
       "  <tbody>\n",
       "    <tr>\n",
       "      <th>0</th>\n",
       "      <td>Andaman &amp; Nicobar Islands</td>\n",
       "      <td>2001</td>\n",
       "      <td>Cattle - Property</td>\n",
       "      <td>2. Cattle</td>\n",
       "      <td>0</td>\n",
       "      <td>1</td>\n",
       "      <td>0</td>\n",
       "      <td>1000</td>\n",
       "    </tr>\n",
       "    <tr>\n",
       "      <th>1</th>\n",
       "      <td>Andhra Pradesh</td>\n",
       "      <td>2001</td>\n",
       "      <td>Cattle - Property</td>\n",
       "      <td>2. Cattle</td>\n",
       "      <td>448</td>\n",
       "      <td>580</td>\n",
       "      <td>6490596</td>\n",
       "      <td>7233876</td>\n",
       "    </tr>\n",
       "    <tr>\n",
       "      <th>2</th>\n",
       "      <td>Arunachal Pradesh</td>\n",
       "      <td>2001</td>\n",
       "      <td>Cattle - Property</td>\n",
       "      <td>2. Cattle</td>\n",
       "      <td>22</td>\n",
       "      <td>34</td>\n",
       "      <td>135500</td>\n",
       "      <td>704500</td>\n",
       "    </tr>\n",
       "    <tr>\n",
       "      <th>3</th>\n",
       "      <td>Assam</td>\n",
       "      <td>2001</td>\n",
       "      <td>Cattle - Property</td>\n",
       "      <td>2. Cattle</td>\n",
       "      <td>149</td>\n",
       "      <td>322</td>\n",
       "      <td>683350</td>\n",
       "      <td>1816386</td>\n",
       "    </tr>\n",
       "    <tr>\n",
       "      <th>4</th>\n",
       "      <td>Bihar</td>\n",
       "      <td>2001</td>\n",
       "      <td>Cattle - Property</td>\n",
       "      <td>2. Cattle</td>\n",
       "      <td>144</td>\n",
       "      <td>334</td>\n",
       "      <td>896019</td>\n",
       "      <td>1911068</td>\n",
       "    </tr>\n",
       "    <tr>\n",
       "      <th>...</th>\n",
       "      <td>...</td>\n",
       "      <td>...</td>\n",
       "      <td>...</td>\n",
       "      <td>...</td>\n",
       "      <td>...</td>\n",
       "      <td>...</td>\n",
       "      <td>...</td>\n",
       "      <td>...</td>\n",
       "    </tr>\n",
       "    <tr>\n",
       "      <th>4545</th>\n",
       "      <td>Tamil Nadu</td>\n",
       "      <td>2010</td>\n",
       "      <td>Total Property(Nature)</td>\n",
       "      <td>Total Property Stolen &amp; Recovered</td>\n",
       "      <td>16125</td>\n",
       "      <td>21509</td>\n",
       "      <td>660311804</td>\n",
       "      <td>1317919190</td>\n",
       "    </tr>\n",
       "    <tr>\n",
       "      <th>4546</th>\n",
       "      <td>Tripura</td>\n",
       "      <td>2010</td>\n",
       "      <td>Total Property(Nature)</td>\n",
       "      <td>Total Property Stolen &amp; Recovered</td>\n",
       "      <td>192</td>\n",
       "      <td>879</td>\n",
       "      <td>5666102</td>\n",
       "      <td>33032746</td>\n",
       "    </tr>\n",
       "    <tr>\n",
       "      <th>4547</th>\n",
       "      <td>Uttar Pradesh</td>\n",
       "      <td>2010</td>\n",
       "      <td>Total Property(Nature)</td>\n",
       "      <td>Total Property Stolen &amp; Recovered</td>\n",
       "      <td>9130</td>\n",
       "      <td>35068</td>\n",
       "      <td>577591772</td>\n",
       "      <td>1442670414</td>\n",
       "    </tr>\n",
       "    <tr>\n",
       "      <th>4548</th>\n",
       "      <td>Uttarakhand</td>\n",
       "      <td>2010</td>\n",
       "      <td>Total Property(Nature)</td>\n",
       "      <td>Total Property Stolen &amp; Recovered</td>\n",
       "      <td>964</td>\n",
       "      <td>2234</td>\n",
       "      <td>47135685</td>\n",
       "      <td>123398840</td>\n",
       "    </tr>\n",
       "    <tr>\n",
       "      <th>4549</th>\n",
       "      <td>West Bengal</td>\n",
       "      <td>2010</td>\n",
       "      <td>Total Property(Nature)</td>\n",
       "      <td>Total Property Stolen &amp; Recovered</td>\n",
       "      <td>4548</td>\n",
       "      <td>23759</td>\n",
       "      <td>1168242161</td>\n",
       "      <td>5015168687</td>\n",
       "    </tr>\n",
       "  </tbody>\n",
       "</table>\n",
       "<p>4550 rows × 8 columns</p>\n",
       "</div>"
      ],
      "text/plain": [
       "                      Area_Name  Year              Group_Name  \\\n",
       "0     Andaman & Nicobar Islands  2001       Cattle - Property   \n",
       "1                Andhra Pradesh  2001       Cattle - Property   \n",
       "2             Arunachal Pradesh  2001       Cattle - Property   \n",
       "3                         Assam  2001       Cattle - Property   \n",
       "4                         Bihar  2001       Cattle - Property   \n",
       "...                         ...   ...                     ...   \n",
       "4545                 Tamil Nadu  2010  Total Property(Nature)   \n",
       "4546                    Tripura  2010  Total Property(Nature)   \n",
       "4547              Uttar Pradesh  2010  Total Property(Nature)   \n",
       "4548                Uttarakhand  2010  Total Property(Nature)   \n",
       "4549                West Bengal  2010  Total Property(Nature)   \n",
       "\n",
       "                         Sub_Group_Name  Cases_Property_Recovered  \\\n",
       "0                             2. Cattle                         0   \n",
       "1                             2. Cattle                       448   \n",
       "2                             2. Cattle                        22   \n",
       "3                             2. Cattle                       149   \n",
       "4                             2. Cattle                       144   \n",
       "...                                 ...                       ...   \n",
       "4545  Total Property Stolen & Recovered                     16125   \n",
       "4546  Total Property Stolen & Recovered                       192   \n",
       "4547  Total Property Stolen & Recovered                      9130   \n",
       "4548  Total Property Stolen & Recovered                       964   \n",
       "4549  Total Property Stolen & Recovered                      4548   \n",
       "\n",
       "      Cases_Property_Stolen  Value_of_Property_Recovered  \\\n",
       "0                         1                            0   \n",
       "1                       580                      6490596   \n",
       "2                        34                       135500   \n",
       "3                       322                       683350   \n",
       "4                       334                       896019   \n",
       "...                     ...                          ...   \n",
       "4545                  21509                    660311804   \n",
       "4546                    879                      5666102   \n",
       "4547                  35068                    577591772   \n",
       "4548                   2234                     47135685   \n",
       "4549                  23759                   1168242161   \n",
       "\n",
       "      Value_of_Property_Stolen  \n",
       "0                         1000  \n",
       "1                      7233876  \n",
       "2                       704500  \n",
       "3                      1816386  \n",
       "4                      1911068  \n",
       "...                        ...  \n",
       "4545                1317919190  \n",
       "4546                  33032746  \n",
       "4547                1442670414  \n",
       "4548                 123398840  \n",
       "4549                5015168687  \n",
       "\n",
       "[4550 rows x 8 columns]"
      ]
     },
     "execution_count": 3,
     "metadata": {},
     "output_type": "execute_result"
    }
   ],
   "source": [
    "df"
   ]
  },
  {
   "cell_type": "code",
   "execution_count": 4,
   "id": "eea6aa9f",
   "metadata": {},
   "outputs": [],
   "source": [
    "# Extract the unique areas from the 'Area_Name' column\n",
    "areas = df['Area_Name'].unique()\n"
   ]
  },
  {
   "cell_type": "code",
   "execution_count": 5,
   "id": "5037db7d",
   "metadata": {},
   "outputs": [
    {
     "data": {
      "text/plain": [
       "array(['Andaman & Nicobar Islands', 'Andhra Pradesh', 'Arunachal Pradesh',\n",
       "       'Assam', 'Bihar', 'Chandigarh', 'Chhattisgarh',\n",
       "       'Dadra & Nagar Haveli', 'Daman & Diu', 'Delhi', 'Goa', 'Gujarat',\n",
       "       'Haryana', 'Himachal Pradesh', 'Jammu & Kashmir', 'Jharkhand',\n",
       "       'Karnataka', 'Kerala', 'Lakshadweep', 'Madhya Pradesh',\n",
       "       'Maharashtra', 'Manipur', 'Meghalaya', 'Mizoram', 'Nagaland',\n",
       "       'Odisha', 'Puducherry', 'Punjab', 'Rajasthan', 'Sikkim',\n",
       "       'Tamil Nadu', 'Tripura', 'Uttar Pradesh', 'Uttarakhand',\n",
       "       'West Bengal'], dtype=object)"
      ]
     },
     "execution_count": 5,
     "metadata": {},
     "output_type": "execute_result"
    }
   ],
   "source": [
    "# Print the unique areas\n",
    "areas\n"
   ]
  },
  {
   "cell_type": "code",
   "execution_count": 15,
   "id": "03b95e22",
   "metadata": {},
   "outputs": [],
   "source": [
    "from sklearn.preprocessing import OneHotEncoder\n",
    "\n",
    "# Load the dataset\n",
    "data = ['Andaman & Nicobar Islands', 'Andhra Pradesh', 'Arunachal Pradesh', 'Assam', 'Bihar', 'Chandigarh', 'Chhattisgarh', 'Dadra & Nagar Haveli', 'Daman & Diu', 'Delhi', 'Goa', 'Gujarat', 'Haryana', 'Himachal Pradesh', 'Jammu & Kashmir', 'Jharkhand', 'Karnataka', 'Kerala', 'Lakshadweep', 'Madhya Pradesh', 'Maharashtra', 'Manipur', 'Meghalaya', 'Mizoram', 'Nagaland', 'Odisha', 'Puducherry', 'Punjab', 'Rajasthan', 'Sikkim', 'Tamil Nadu', 'Tripura', 'Uttar Pradesh', 'Uttarakhand', 'West Bengal']\n"
   ]
  },
  {
   "cell_type": "code",
   "execution_count": 16,
   "id": "5dc2bb1e",
   "metadata": {},
   "outputs": [],
   "source": [
    "# Convert data to a DataFrame\n",
    "df = pd.DataFrame(data, columns=['Area'])\n"
   ]
  },
  {
   "cell_type": "code",
   "execution_count": 17,
   "id": "48d6a8c0",
   "metadata": {},
   "outputs": [],
   "source": [
    "# Perform one-hot encoding\n",
    "encoded_df = pd.get_dummies(df)\n"
   ]
  },
  {
   "cell_type": "code",
   "execution_count": 18,
   "id": "7ee05c8f",
   "metadata": {},
   "outputs": [],
   "source": [
    "# Create the KMeans model\n",
    "kmeans = KMeans(n_clusters=3, random_state=42)\n"
   ]
  },
  {
   "cell_type": "code",
   "execution_count": 19,
   "id": "92aac61f",
   "metadata": {},
   "outputs": [
    {
     "data": {
      "text/plain": [
       "KMeans(n_clusters=3, random_state=42)"
      ]
     },
     "execution_count": 19,
     "metadata": {},
     "output_type": "execute_result"
    }
   ],
   "source": [
    "# Fit the model to the data\n",
    "kmeans.fit(encoded_df)\n"
   ]
  },
  {
   "cell_type": "code",
   "execution_count": 20,
   "id": "93af93e7",
   "metadata": {},
   "outputs": [],
   "source": [
    "# Get the cluster labels\n",
    "labels = kmeans.labels_\n"
   ]
  },
  {
   "cell_type": "code",
   "execution_count": 21,
   "id": "983d50ca",
   "metadata": {},
   "outputs": [],
   "source": [
    "# Add the cluster labels to the DataFrame\n",
    "df['Cluster'] = labels\n"
   ]
  },
  {
   "cell_type": "code",
   "execution_count": 22,
   "id": "29310638",
   "metadata": {},
   "outputs": [],
   "source": [
    "# Filter sensitive areas based on the cluster label\n",
    "sensitive_areas = df[df['Cluster'] == 0]['Area'].tolist()\n"
   ]
  },
  {
   "cell_type": "code",
   "execution_count": 23,
   "id": "87ebba2c",
   "metadata": {},
   "outputs": [
    {
     "name": "stdout",
     "output_type": "stream",
     "text": [
      "Sensitive Areas:\n",
      "Andaman & Nicobar Islands\n",
      "Andhra Pradesh\n",
      "Arunachal Pradesh\n",
      "Assam\n",
      "Bihar\n",
      "Chandigarh\n",
      "Chhattisgarh\n",
      "Dadra & Nagar Haveli\n",
      "Daman & Diu\n",
      "Delhi\n",
      "Goa\n",
      "Gujarat\n",
      "Haryana\n",
      "Himachal Pradesh\n",
      "Jammu & Kashmir\n",
      "Jharkhand\n",
      "Karnataka\n",
      "Kerala\n",
      "Lakshadweep\n",
      "Madhya Pradesh\n",
      "Maharashtra\n",
      "Manipur\n",
      "Mizoram\n",
      "Nagaland\n",
      "Odisha\n",
      "Puducherry\n",
      "Punjab\n",
      "Rajasthan\n",
      "Sikkim\n",
      "Tamil Nadu\n",
      "Tripura\n",
      "Uttarakhand\n",
      "West Bengal\n"
     ]
    }
   ],
   "source": [
    "# Print the sensitive areas\n",
    "print(\"Sensitive Areas:\")\n",
    "for area in sensitive_areas:\n",
    "    print(area)\n"
   ]
  },
  {
   "cell_type": "code",
   "execution_count": 10,
   "id": "517f0d0e",
   "metadata": {},
   "outputs": [
    {
     "name": "stdout",
     "output_type": "stream",
     "text": [
      "Moderate Areas:\n",
      "Meghalaya\n"
     ]
    }
   ],
   "source": [
    "import pandas as pd\n",
    "from sklearn.cluster import KMeans\n",
    "from sklearn.preprocessing import OneHotEncoder\n",
    "\n",
    "# Load the dataset\n",
    "data = ['Andaman & Nicobar Islands', 'Andhra Pradesh', 'Arunachal Pradesh', 'Assam', 'Bihar', 'Chandigarh', 'Chhattisgarh', 'Dadra & Nagar Haveli', 'Daman & Diu', 'Delhi', 'Goa', 'Gujarat', 'Haryana', 'Himachal Pradesh', 'Jammu & Kashmir', 'Jharkhand', 'Karnataka', 'Kerala', 'Lakshadweep', 'Madhya Pradesh', 'Maharashtra', 'Manipur', 'Meghalaya', 'Mizoram', 'Nagaland', 'Odisha', 'Puducherry', 'Punjab', 'Rajasthan', 'Sikkim', 'Tamil Nadu', 'Tripura', 'Uttar Pradesh', 'Uttarakhand', 'West Bengal']\n",
    "\n",
    "# Convert data to a DataFrame\n",
    "df = pd.DataFrame(data, columns=['Area'])\n",
    "\n",
    "# Perform one-hot encoding\n",
    "encoded_df = pd.get_dummies(df)\n",
    "\n",
    "# Create the KMeans model\n",
    "kmeans = KMeans(n_clusters=3, random_state=42)\n",
    "\n",
    "# Fit the model to the data\n",
    "kmeans.fit(encoded_df)\n",
    "\n",
    "# Get the cluster labels\n",
    "labels = kmeans.labels_\n",
    "\n",
    "# Add the cluster labels to the DataFrame\n",
    "df['Cluster'] = labels\n",
    "\n",
    "# Filter moderate areas based on the cluster label\n",
    "moderate_areas = df[df['Cluster'] == 1]['Area'].tolist()\n",
    "\n"
   ]
  },
  {
   "cell_type": "code",
   "execution_count": 11,
   "id": "4f892d62",
   "metadata": {},
   "outputs": [
    {
     "name": "stdout",
     "output_type": "stream",
     "text": [
      "Moderate Areas:\n",
      "Meghalaya\n"
     ]
    }
   ],
   "source": [
    "# Print the moderate areas\n",
    "print(\"Moderate Areas:\")\n",
    "for area in moderate_areas:\n",
    "    print(area)\n"
   ]
  },
  {
   "cell_type": "code",
   "execution_count": 12,
   "id": "f336bdb2",
   "metadata": {},
   "outputs": [
    {
     "name": "stdout",
     "output_type": "stream",
     "text": [
      "Peaceful Areas:\n",
      "Uttar Pradesh\n"
     ]
    }
   ],
   "source": [
    "\n",
    "# Load the dataset\n",
    "data = ['Andaman & Nicobar Islands', 'Andhra Pradesh', 'Arunachal Pradesh', 'Assam', 'Bihar', 'Chandigarh', 'Chhattisgarh', 'Dadra & Nagar Haveli', 'Daman & Diu', 'Delhi', 'Goa', 'Gujarat', 'Haryana', 'Himachal Pradesh', 'Jammu & Kashmir', 'Jharkhand', 'Karnataka', 'Kerala', 'Lakshadweep', 'Madhya Pradesh', 'Maharashtra', 'Manipur', 'Meghalaya', 'Mizoram', 'Nagaland', 'Odisha', 'Puducherry', 'Punjab', 'Rajasthan', 'Sikkim', 'Tamil Nadu', 'Tripura', 'Uttar Pradesh', 'Uttarakhand', 'West Bengal']\n",
    "\n",
    "# Convert data to a DataFrame\n",
    "df = pd.DataFrame(data, columns=['Area'])\n",
    "\n",
    "# Perform one-hot encoding\n",
    "encoded_df = pd.get_dummies(df)\n",
    "\n",
    "# Create the KMeans model\n",
    "kmeans = KMeans(n_clusters=3, random_state=42)\n",
    "\n",
    "# Fit the model to the data\n",
    "kmeans.fit(encoded_df)\n",
    "\n",
    "# Get the cluster labels\n",
    "labels = kmeans.labels_\n",
    "\n",
    "# Add the cluster labels to the DataFrame\n",
    "df['Cluster'] = labels\n",
    "\n",
    "# Filter peaceful areas based on the cluster label\n",
    "peaceful_areas = df[df['Cluster'] == 2]['Area'].tolist()\n",
    "\n",
    "# Print the peaceful areas\n",
    "print(\"Peaceful Areas:\")\n",
    "for area in peaceful_areas:\n",
    "    print(area)\n"
   ]
  },
  {
   "cell_type": "code",
   "execution_count": 13,
   "id": "c0da903b",
   "metadata": {},
   "outputs": [
    {
     "name": "stdout",
     "output_type": "stream",
     "text": [
      "Sensitive Areas:\n",
      "                         Area          Cluster\n",
      "0   Andaman & Nicobar Islands  Sensitive Areas\n",
      "1              Andhra Pradesh  Sensitive Areas\n",
      "2           Arunachal Pradesh  Sensitive Areas\n",
      "3                       Assam  Sensitive Areas\n",
      "4                       Bihar  Sensitive Areas\n",
      "5                  Chandigarh  Sensitive Areas\n",
      "6                Chhattisgarh  Sensitive Areas\n",
      "7        Dadra & Nagar Haveli  Sensitive Areas\n",
      "8                 Daman & Diu  Sensitive Areas\n",
      "9                       Delhi  Sensitive Areas\n",
      "10                        Goa  Sensitive Areas\n",
      "11                    Gujarat  Sensitive Areas\n",
      "12                    Haryana  Sensitive Areas\n",
      "13           Himachal Pradesh  Sensitive Areas\n",
      "14            Jammu & Kashmir  Sensitive Areas\n",
      "15                  Jharkhand  Sensitive Areas\n",
      "16                  Karnataka  Sensitive Areas\n",
      "17                     Kerala  Sensitive Areas\n",
      "18                Lakshadweep  Sensitive Areas\n",
      "19             Madhya Pradesh  Sensitive Areas\n",
      "20                Maharashtra  Sensitive Areas\n",
      "21                    Manipur  Sensitive Areas\n",
      "23                    Mizoram  Sensitive Areas\n",
      "24                   Nagaland  Sensitive Areas\n",
      "25                     Odisha  Sensitive Areas\n",
      "26                 Puducherry  Sensitive Areas\n",
      "27                     Punjab  Sensitive Areas\n",
      "28                  Rajasthan  Sensitive Areas\n",
      "29                     Sikkim  Sensitive Areas\n",
      "30                 Tamil Nadu  Sensitive Areas\n",
      "31                    Tripura  Sensitive Areas\n",
      "33                West Bengal  Sensitive Areas\n",
      "\n",
      "Moderate Areas:\n",
      "         Area         Cluster\n",
      "22  Meghalaya  Moderate Areas\n",
      "\n",
      "Peaceful Areas:\n",
      "           Area         Cluster\n",
      "32  Uttarakhand  Peaceful Areas\n"
     ]
    }
   ],
   "source": [
    "# Define the areas and their corresponding clusters\n",
    "data = [\n",
    "    'Andaman & Nicobar Islands', 'Andhra Pradesh', 'Arunachal Pradesh',\n",
    "    'Assam', 'Bihar', 'Chandigarh', 'Chhattisgarh', 'Dadra & Nagar Haveli',\n",
    "    'Daman & Diu', 'Delhi', 'Goa', 'Gujarat', 'Haryana', 'Himachal Pradesh',\n",
    "    'Jammu & Kashmir', 'Jharkhand', 'Karnataka', 'Kerala', 'Lakshadweep',\n",
    "    'Madhya Pradesh', 'Maharashtra', 'Manipur', 'Meghalaya', 'Mizoram',\n",
    "    'Nagaland', 'Odisha', 'Puducherry', 'Punjab', 'Rajasthan', 'Sikkim',\n",
    "    'Tamil Nadu', 'Tripura', 'Uttarakhand', 'West Bengal'\n",
    "]\n",
    "\n",
    "clusters = [\n",
    "    'Sensitive Areas', 'Sensitive Areas', 'Sensitive Areas', 'Sensitive Areas',\n",
    "    'Sensitive Areas', 'Sensitive Areas', 'Sensitive Areas', 'Sensitive Areas',\n",
    "    'Sensitive Areas', 'Sensitive Areas', 'Sensitive Areas', 'Sensitive Areas',\n",
    "    'Sensitive Areas', 'Sensitive Areas', 'Sensitive Areas', 'Sensitive Areas',\n",
    "    'Sensitive Areas', 'Sensitive Areas', 'Sensitive Areas', 'Sensitive Areas',\n",
    "    'Sensitive Areas', 'Sensitive Areas', 'Moderate Areas', 'Sensitive Areas',\n",
    "    'Sensitive Areas', 'Sensitive Areas', 'Sensitive Areas', 'Sensitive Areas',\n",
    "    'Sensitive Areas', 'Sensitive Areas', 'Sensitive Areas', 'Sensitive Areas',\n",
    "    'Peaceful Areas', 'Sensitive Areas'\n",
    "]\n",
    "\n",
    "# Create the DataFrame\n",
    "df = pd.DataFrame({'Area': data, 'Cluster': clusters})\n",
    "\n",
    "# Separate DataFrames for each cluster\n",
    "sensitive_areas_df = df[df['Cluster'] == 'Sensitive Areas']\n",
    "moderate_areas_df = df[df['Cluster'] == 'Moderate Areas']\n",
    "peaceful_areas_df = df[df['Cluster'] == 'Peaceful Areas']\n",
    "\n",
    "\n",
    "print(\"Sensitive Areas:\")\n",
    "print(sensitive_areas_df)\n",
    "\n",
    "print(\"\\nModerate Areas:\")\n",
    "print(moderate_areas_df)\n",
    "\n",
    "print(\"\\nPeaceful Areas:\")\n",
    "print(peaceful_areas_df)\n"
   ]
  },
  {
   "cell_type": "code",
   "execution_count": 14,
   "id": "23f72d55",
   "metadata": {},
   "outputs": [],
   "source": [
    "data = [\n",
    "    ['Andaman & Nicobar Islands', 'Sensitive Areas'],\n",
    "    ['Andhra Pradesh', 'Sensitive Areas'],\n",
    "    ['Arunachal Pradesh', 'Sensitive Areas'],\n",
    "    ['Assam', 'Sensitive Areas'],\n",
    "    ['Bihar', 'Sensitive Areas'],\n",
    "    ['Chandigarh', 'Sensitive Areas'],\n",
    "    ['Chhattisgarh', 'Sensitive Areas'],\n",
    "    ['Dadra & Nagar Haveli', 'Sensitive Areas'],\n",
    "    ['Daman & Diu', 'Sensitive Areas'],\n",
    "    ['Delhi', 'Sensitive Areas'],\n",
    "    ['Goa', 'Sensitive Areas'],\n",
    "    ['Gujarat', 'Sensitive Areas'],\n",
    "    ['Haryana', 'Sensitive Areas'],\n",
    "    ['Himachal Pradesh', 'Sensitive Areas'],\n",
    "    ['Jammu & Kashmir', 'Sensitive Areas'],\n",
    "    ['Jharkhand', 'Sensitive Areas'],\n",
    "    ['Karnataka', 'Sensitive Areas'],\n",
    "    ['Kerala', 'Sensitive Areas'],\n",
    "    ['Lakshadweep', 'Sensitive Areas'],\n",
    "    ['Madhya Pradesh', 'Sensitive Areas'],\n",
    "    ['Maharashtra', 'Sensitive Areas'],\n",
    "    ['Manipur', 'Sensitive Areas'],\n",
    "    ['Meghalaya', 'Moderate Areas'],\n",
    "    ['Mizoram', 'Sensitive Areas'],\n",
    "    ['Nagaland', 'Sensitive Areas'],\n",
    "    ['Odisha', 'Sensitive Areas'],\n",
    "    ['Puducherry', 'Sensitive Areas'],\n",
    "    ['Punjab', 'Sensitive Areas'],\n",
    "    ['Rajasthan', 'Sensitive Areas'],\n",
    "    ['Sikkim', 'Sensitive Areas'],\n",
    "    ['Tamil Nadu', 'Sensitive Areas'],\n",
    "    ['Tripura', 'Sensitive Areas'],\n",
    "    ['Uttarakhand', 'Peaceful Areas'],\n",
    "    ['West Bengal', 'Sensitive Areas']\n",
    "]\n"
   ]
  },
  {
   "cell_type": "code",
   "execution_count": 15,
   "id": "451f0946",
   "metadata": {},
   "outputs": [],
   "source": [
    "df = pd.DataFrame(data, columns=['Area', 'Cluster'])\n"
   ]
  },
  {
   "cell_type": "code",
   "execution_count": 16,
   "id": "8fb7f347",
   "metadata": {},
   "outputs": [],
   "source": [
    "# Group the DataFrame by the \"Cluster\" column\n",
    "grouped = df.groupby('Cluster')\n"
   ]
  },
  {
   "cell_type": "code",
   "execution_count": 17,
   "id": "4e143f0d",
   "metadata": {},
   "outputs": [],
   "source": [
    "# Create separate DataFrames for each cluster\n",
    "clusters = {}\n",
    "for cluster, data_frame in grouped:\n",
    "    clusters[cluster] = data_frame\n"
   ]
  },
  {
   "cell_type": "code",
   "execution_count": 18,
   "id": "c7549116",
   "metadata": {},
   "outputs": [
    {
     "name": "stdout",
     "output_type": "stream",
     "text": [
      "Moderate Areas:\n",
      "         Area         Cluster\n",
      "22  Meghalaya  Moderate Areas\n",
      "\n",
      "Peaceful Areas:\n",
      "           Area         Cluster\n",
      "32  Uttarakhand  Peaceful Areas\n",
      "\n",
      "Sensitive Areas:\n",
      "                         Area          Cluster\n",
      "0   Andaman & Nicobar Islands  Sensitive Areas\n",
      "1              Andhra Pradesh  Sensitive Areas\n",
      "2           Arunachal Pradesh  Sensitive Areas\n",
      "3                       Assam  Sensitive Areas\n",
      "4                       Bihar  Sensitive Areas\n",
      "5                  Chandigarh  Sensitive Areas\n",
      "6                Chhattisgarh  Sensitive Areas\n",
      "7        Dadra & Nagar Haveli  Sensitive Areas\n",
      "8                 Daman & Diu  Sensitive Areas\n",
      "9                       Delhi  Sensitive Areas\n",
      "10                        Goa  Sensitive Areas\n",
      "11                    Gujarat  Sensitive Areas\n",
      "12                    Haryana  Sensitive Areas\n",
      "13           Himachal Pradesh  Sensitive Areas\n",
      "14            Jammu & Kashmir  Sensitive Areas\n",
      "15                  Jharkhand  Sensitive Areas\n",
      "16                  Karnataka  Sensitive Areas\n",
      "17                     Kerala  Sensitive Areas\n",
      "18                Lakshadweep  Sensitive Areas\n",
      "19             Madhya Pradesh  Sensitive Areas\n",
      "20                Maharashtra  Sensitive Areas\n",
      "21                    Manipur  Sensitive Areas\n",
      "23                    Mizoram  Sensitive Areas\n",
      "24                   Nagaland  Sensitive Areas\n",
      "25                     Odisha  Sensitive Areas\n",
      "26                 Puducherry  Sensitive Areas\n",
      "27                     Punjab  Sensitive Areas\n",
      "28                  Rajasthan  Sensitive Areas\n",
      "29                     Sikkim  Sensitive Areas\n",
      "30                 Tamil Nadu  Sensitive Areas\n",
      "31                    Tripura  Sensitive Areas\n",
      "33                West Bengal  Sensitive Areas\n",
      "\n"
     ]
    }
   ],
   "source": [
    "# Print the separate DataFrames for each cluster\n",
    "for cluster, data_frame in clusters.items():\n",
    "    print(f\"{cluster}:\")\n",
    "    print(data_frame)\n",
    "    print()\n"
   ]
  },
  {
   "cell_type": "code",
   "execution_count": 21,
   "id": "e8560e18",
   "metadata": {},
   "outputs": [],
   "source": [
    "\n",
    "\n",
    "# Assuming you have the DataFrames for sensitive areas, moderate areas, and peaceful areas\n",
    "\n",
    "# Analyze the clusters\n",
    "sensitive_count = len(sensitive_areas)\n",
    "moderate_count = len(moderate_areas)\n",
    "peaceful_count = len(peaceful_areas)\n",
    "\n",
    "# Generate the report\n",
    "report = f\"Cluster Analysis:\\n\\n\"\n",
    "report += f\"Sensitive Areas: {sensitive_count} areas\\n\"\n",
    "report += f\"Moderate Areas: {moderate_count} areas\\n\"\n",
    "report += f\"Peaceful Areas: {peaceful_count} areas\\n\\n\"\n",
    "report += \"Observations:\\n\"\n",
    "report += \"1. Sensitive areas are characterized by a higher incidence of crimes.\\n\"\n",
    "report += \"2. Moderate areas have a moderate level of crime rates.\\n\"\n",
    "report += \"3. Peaceful areas experience relatively low crime rates.\\n\"\n"
   ]
  },
  {
   "cell_type": "code",
   "execution_count": 23,
   "id": "fdd082db",
   "metadata": {},
   "outputs": [
    {
     "name": "stdout",
     "output_type": "stream",
     "text": [
      "Cluster Analysis:\n",
      "\n",
      "Sensitive Areas: 33 areas\n",
      "Moderate Areas: 1 areas\n",
      "Peaceful Areas: 1 areas\n",
      "\n",
      "Observations:\n",
      "1. Sensitive areas are characterized by a higher incidence of crimes.\n",
      "2. Moderate areas have a moderate level of crime rates.\n",
      "3. Peaceful areas experience relatively low crime rates.\n",
      "\n"
     ]
    }
   ],
   "source": [
    "# Print the report\n",
    "print(report)\n"
   ]
  },
  {
   "cell_type": "code",
   "execution_count": 24,
   "id": "febd9dba",
   "metadata": {},
   "outputs": [
    {
     "name": "stdout",
     "output_type": "stream",
     "text": [
      "The percentage of sensitive areas is 94.12%.\n",
      "Hence, the impact of crimes in sensitive areas is considered High.\n"
     ]
    }
   ],
   "source": [
    "# Calculate the number of sensitive areas\n",
    "num_sensitive_areas = len(clusters['Sensitive Areas'])\n",
    "\n",
    "# Calculate the percentage of sensitive areas\n",
    "percentage_sensitive_areas = (num_sensitive_areas / len(df)) * 100\n",
    "\n",
    "# Determine what is impacting more crimes in sensitive areas\n",
    "if percentage_sensitive_areas > 50:\n",
    "    impact = \"High\"\n",
    "elif percentage_sensitive_areas > 25:\n",
    "    impact = \"Moderate\"\n",
    "else:\n",
    "    impact = \"Low\"\n",
    "\n",
    "# Print the analysis result\n",
    "print(f\"The percentage of sensitive areas is {percentage_sensitive_areas:.2f}%.\")\n",
    "print(f\"Hence, the impact of crimes in sensitive areas is considered {impact}.\")\n"
   ]
  },
  {
   "cell_type": "code",
   "execution_count": 25,
   "id": "4ebdbe37",
   "metadata": {},
   "outputs": [],
   "source": [
    "num_sensitive_areas = len(clusters['Sensitive Areas'])\n",
    "num_moderate_areas = len(clusters['Moderate Areas'])\n",
    "num_peaceful_areas = len(clusters['Peaceful Areas'])\n"
   ]
  },
  {
   "cell_type": "code",
   "execution_count": 26,
   "id": "7a75c13f",
   "metadata": {},
   "outputs": [],
   "source": [
    "total_areas = len(df)\n",
    "percentage_sensitive_areas = (num_sensitive_areas / total_areas) * 100\n",
    "percentage_moderate_areas = (num_moderate_areas / total_areas) * 100\n",
    "percentage_peaceful_areas = (num_peaceful_areas / total_areas) * 100\n"
   ]
  },
  {
   "cell_type": "code",
   "execution_count": 27,
   "id": "a0436c08",
   "metadata": {},
   "outputs": [
    {
     "name": "stdout",
     "output_type": "stream",
     "text": [
      "Sensitive Areas: Implement stronger law enforcement, community policing, and crime prevention programs.\n",
      "Moderate Areas: Promote community involvement, support local initiatives, and address underlying socio-economic issues.\n",
      "Peaceful Areas: Focus on proactive community engagement, support neighborhood watch programs, and enhance public safety awareness.\n"
     ]
    }
   ],
   "source": [
    "recommendations = {}\n",
    "\n",
    "if percentage_sensitive_areas > 50:\n",
    "    recommendations['Sensitive Areas'] = \"Implement stronger law enforcement, community policing, and crime prevention programs.\"\n",
    "elif percentage_sensitive_areas > 25:\n",
    "    recommendations['Sensitive Areas'] = \"Increase police presence, enhance community engagement, and address socio-economic factors.\"\n",
    "else:\n",
    "    recommendations['Sensitive Areas'] = \"Focus on community empowerment, education, and improving access to social services.\"\n",
    "\n",
    "if percentage_moderate_areas > 50:\n",
    "    recommendations['Moderate Areas'] = \"Enhance community outreach, promote youth engagement, and strengthen local law enforcement.\"\n",
    "elif percentage_moderate_areas > 25:\n",
    "    recommendations['Moderate Areas'] = \"Implement targeted crime prevention strategies, increase public awareness, and improve infrastructure.\"\n",
    "else:\n",
    "    recommendations['Moderate Areas'] = \"Promote community involvement, support local initiatives, and address underlying socio-economic issues.\"\n",
    "\n",
    "if percentage_peaceful_areas > 50:\n",
    "    recommendations['Peaceful Areas'] = \"Maintain existing security measures, promote community cohesion, and invest in crime prevention programs.\"\n",
    "elif percentage_peaceful_areas > 25:\n",
    "    recommendations['Peaceful Areas'] = \"Strengthen community partnerships, improve access to social services, and enhance surveillance systems.\"\n",
    "else:\n",
    "    recommendations['Peaceful Areas'] = \"Focus on proactive community engagement, support neighborhood watch programs, and enhance public safety awareness.\"\n",
    "\n",
    "# Print the recommendations for each cluster\n",
    "for cluster, recommendation in recommendations.items():\n",
    "    print(f\"{cluster}: {recommendation}\")\n"
   ]
  },
  {
   "cell_type": "code",
   "execution_count": 28,
   "id": "e9b56856",
   "metadata": {},
   "outputs": [
    {
     "name": "stdout",
     "output_type": "stream",
     "text": [
      "Most Safe Districts:\n",
      "Andaman & Nicobar Islands\n",
      "Andhra Pradesh\n",
      "Arunachal Pradesh\n",
      "Assam\n",
      "Bihar\n",
      "Chandigarh\n",
      "Chhattisgarh\n",
      "Dadra & Nagar Haveli\n",
      "Daman & Diu\n",
      "Delhi\n",
      "Goa\n",
      "Gujarat\n",
      "Haryana\n",
      "Himachal Pradesh\n",
      "Jammu & Kashmir\n",
      "Jharkhand\n",
      "Karnataka\n",
      "Kerala\n",
      "Lakshadweep\n",
      "Madhya Pradesh\n",
      "Maharashtra\n",
      "Manipur\n",
      "Mizoram\n",
      "Nagaland\n",
      "Odisha\n",
      "Puducherry\n",
      "Punjab\n",
      "Rajasthan\n",
      "Sikkim\n",
      "Tamil Nadu\n",
      "Tripura\n",
      "West Bengal\n",
      "\n",
      "Least Safe Districts:\n",
      "Uttarakhand\n"
     ]
    }
   ],
   "source": [
    "# Calculate the total number of areas in each cluster\n",
    "num_sensitive_areas = len(clusters['Sensitive Areas'])\n",
    "num_moderate_areas = len(clusters['Moderate Areas'])\n",
    "num_peaceful_areas = len(clusters['Peaceful Areas'])\n",
    "\n",
    "# Determine the cluster with the highest number of areas\n",
    "max_cluster = max(num_sensitive_areas, num_moderate_areas, num_peaceful_areas)\n",
    "\n",
    "# Identify the cluster name with the highest number of areas\n",
    "if max_cluster == num_sensitive_areas:\n",
    "    safest_cluster = 'Sensitive Areas'\n",
    "    least_safe_cluster = 'Moderate Areas' if num_moderate_areas < num_peaceful_areas else 'Peaceful Areas'\n",
    "elif max_cluster == num_moderate_areas:\n",
    "    safest_cluster = 'Moderate Areas'\n",
    "    least_safe_cluster = 'Sensitive Areas' if num_sensitive_areas < num_peaceful_areas else 'Peaceful Areas'\n",
    "else:\n",
    "    safest_cluster = 'Peaceful Areas'\n",
    "    least_safe_cluster = 'Sensitive Areas' if num_sensitive_areas < num_moderate_areas else 'Moderate Areas'\n",
    "\n",
    "# Get the list of areas in the safest and least safe clusters\n",
    "safest_districts = df[df['Cluster'] == safest_cluster]['Area'].tolist()\n",
    "least_safe_districts = df[df['Cluster'] == least_safe_cluster]['Area'].tolist()\n",
    "\n",
    "# Print the results\n",
    "print(\"Most Safe Districts:\")\n",
    "for district in safest_districts:\n",
    "    print(district)\n",
    "\n",
    "print(\"\\nLeast Safe Districts:\")\n",
    "for district in least_safe_districts:\n",
    "    print(district)\n"
   ]
  },
  {
   "cell_type": "code",
   "execution_count": 29,
   "id": "76aeb54f",
   "metadata": {},
   "outputs": [
    {
     "data": {
      "image/png": "[encoded data removed]",
      "text/plain": [
       "<Figure size 640x480 with 1 Axes>"
      ]
     },
     "metadata": {},
     "output_type": "display_data"
    }
   ],
   "source": [
    "import matplotlib.pyplot as plt\n",
    "\n",
    "# Calculate the percentage of sensitive areas\n",
    "total_areas = len(df)\n",
    "percentage_sensitive_areas = (num_sensitive_areas / total_areas) * 100\n",
    "\n",
    "# Create a bar plot\n",
    "plt.bar(['Sensitive Areas', 'Moderate Areas', 'Peaceful Areas'], [percentage_sensitive_areas, num_moderate_areas, num_peaceful_areas])\n",
    "plt.xlabel('Cluster')\n",
    "plt.ylabel('Percentage')\n",
    "plt.title('Impact of Crimes in Different Clusters')\n",
    "\n",
    "# Display the plot\n",
    "plt.show()\n"
   ]
  },
  {
   "cell_type": "markdown",
   "id": "2706a77a",
   "metadata": {},
   "source": [
    "# story"
   ]
  },
  {
   "cell_type": "code",
   "execution_count": 24,
   "id": "5b0222b4",
   "metadata": {},
   "outputs": [],
   "source": [
    "#introduction "
   ]
  },
  {
   "cell_type": "code",
   "execution_count": null,
   "id": "4d02d7d5",
   "metadata": {},
   "outputs": [],
   "source": [
    "#In today's world, the intricate relationship between crime rates and various socio-economic factors has gained significant attention.\n",
    "#This story aims to explore the correlation between literacy rates, crime statistics, and other relevant factors to shed light on the dynamics of crime and propose strategies for building safer communities. \n",
    "#\n",
    "#By analyzing literacy rate data across states and Union Territories, we aim to identify any patterns or trends between literacy and crime.\n",
    "#In conclusion, this story has explored the intricate relationship between literacy rates, crime statistics, and various socio-economic factors. By analyzing data on literacy rates, total crime, overall crime trends, year-on-year changes, and geographical clusters, we have gained valuable insights into the dynamics of crime. \n",
    "#We have highlighted the importance of promoting education, addressing socio-economic disparities, and implementing targeted interventions to reduce crime rates. By adopting a comprehensive and community-centered approach, we can work towards building safer communities and empowering individuals to lead fulfilling lives free from the fear of crime.\n",
    "\n",
    "\n"
   ]
  }
 ],
 "metadata": {
  "kernelspec": {
   "display_name": "Python 3 (ipykernel)",
   "language": "python",
   "name": "python3"
  },
  "language_info": {
   "codemirror_mode": {
    "name": "ipython",
    "version": 3
   },
   "file_extension": ".py",
   "mimetype": "text/x-python",
   "name": "python",
   "nbconvert_exporter": "python",
   "pygments_lexer": "ipython3",
   "version": "3.9.13"
  }
 },
 "nbformat": 4,
 "nbformat_minor": 5
}
